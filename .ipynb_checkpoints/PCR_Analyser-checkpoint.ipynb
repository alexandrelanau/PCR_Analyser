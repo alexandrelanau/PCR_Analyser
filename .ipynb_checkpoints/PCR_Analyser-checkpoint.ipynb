{
 "cells": [
  {
   "cell_type": "markdown",
   "id": "2bb74894-a9c5-4a33-ba7b-a4bdc39bcc52",
   "metadata": {},
   "source": [
    "# Packages "
   ]
  },
  {
   "cell_type": "code",
   "execution_count": 1,
   "id": "26395890-2890-4c06-9cd5-63207501cf8c",
   "metadata": {},
   "outputs": [],
   "source": [
    "import numpy as np\n",
    "import matplotlib as mpl\n",
    "import matplotlib.pyplot as plt\n",
    "import pandas as pd\n",
    "from math import *\n",
    "from sklearn.metrics import r2_score\n",
    "import seaborn as sns\n",
    "import warnings\n",
    "warnings.filterwarnings(\"ignore\") \n",
    "%matplotlib inline\n",
    "from tqdm import tqdm"
   ]
  },
  {
   "cell_type": "code",
   "execution_count": null,
   "id": "be9d6cf1-bfc2-41bb-9048-612106887472",
   "metadata": {},
   "outputs": [],
   "source": [
    "output_path = '/Users/lanauaa/Desktop/Viral_dynamics_project/Data_replication_immunotron/'\n",
    "experiment_name = '20230306_MHV_HeLa_kinetics'"
   ]
  },
  {
   "cell_type": "code",
   "execution_count": null,
   "id": "ea9e4a70-c941-49ca-b15f-f0457edfd0e4",
   "metadata": {},
   "outputs": [],
   "source": [
    "# Import Data "
   ]
  },
  {
   "cell_type": "code",
   "execution_count": null,
   "id": "c0d1b7ac-c979-4503-9f30-5e488d86e7ce",
   "metadata": {},
   "outputs": [],
   "source": []
  },
  {
   "cell_type": "code",
   "execution_count": null,
   "id": "04d06e11-2525-4120-9e58-6669e3259f56",
   "metadata": {},
   "outputs": [],
   "source": []
  }
 ],
 "metadata": {
  "kernelspec": {
   "display_name": "Python 3 (ipykernel)",
   "language": "python",
   "name": "python3"
  },
  "language_info": {
   "codemirror_mode": {
    "name": "ipython",
    "version": 3
   },
   "file_extension": ".py",
   "mimetype": "text/x-python",
   "name": "python",
   "nbconvert_exporter": "python",
   "pygments_lexer": "ipython3",
   "version": "3.9.13"
  }
 },
 "nbformat": 4,
 "nbformat_minor": 5
}
